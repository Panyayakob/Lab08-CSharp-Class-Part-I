{
 "cells": [
  {
   "cell_type": "markdown",
   "metadata": {},
   "source": [
    "# Lab 8 Exercise 2\n",
    "\n",
    "## การประกาศสมาชิกในคลาส (fields)\n"
   ]
  },
  {
   "cell_type": "markdown",
   "metadata": {},
   "source": [
    "\n",
    "\n",
    "1. สร้าง console application project\n",
    "\n",
    "```\n",
    "    dotnet new console --name Lab08_Ex02\n",
    "```\n"
   ]
  },
  {
   "cell_type": "markdown",
   "metadata": {},
   "source": [
    "\n",
    "2. เปลี่ยน code ให้เป็นดังต่อไปนี้ (ตัวเลขข้างหน้า คือหมายเลขบรรทัด ไว้สำหรับอ้างอิง)\n",
    "\n",
    "> ```csharp\n",
    ">  1. Person p = new Person();\n",
    ">  2. p.name = \"Rambo\";\n",
    ">  3. p.id = \"1987\";\n",
    ">  4. p.income = 2500;\n",
    ">  5. System.Console.WriteLine($\"Type of p is {p.GetType()}\");\n",
    ">  6. System.Console.WriteLine($\"p.name = {p.name}\\ttype = {p.name.GetType()}\");\n",
    ">  7. System.Console.WriteLine($\"p.id = {p.id}\\ttype = {p.id.GetType()}\");\n",
    ">  8. System.Console.WriteLine($\"p.income = {p.income}\\ttype = {p.income.GetType()}\");\n",
    ">  9. \n",
    "> 10. class Person\n",
    "> 11. {\n",
    "> 12.     string name;\n",
    "> 13.     string id;\n",
    "> 14.     int income;\n",
    "> 15. }\n",
    "> ```\n"
   ]
  },
  {
   "cell_type": "markdown",
   "metadata": {},
   "source": [
    "\n",
    "3. Build project โดยการใช้คำสั่ง\n",
    "\n",
    "```\n",
    "    dotnet build  Lab08_Ex02\n",
    "```\n"
   ]
  },
  {
   "cell_type": "markdown",
   "metadata": {},
   "source": [
    "\n",
    "4. บันทึกผลที่ได้จากการรันคำสั่งในข้อ 3\n"
   ]
  },
  {
   "cell_type": "markdown",
   "metadata": {},
   "source": [
    "*คำตอบ*"
   ]
  },
  {
   "attachments": {
    "image.png": {
     "image/png": "[encoded data removed]"
    }
   },
   "cell_type": "markdown",
   "metadata": {},
   "source": [
    "![image.png](attachment:image.png)"
   ]
  },
  {
   "cell_type": "markdown",
   "metadata": {},
   "source": [
    "\n",
    "5. Run project โดยการใช้คำสั่ง\n",
    "\n",
    "```\n",
    "    dotnet run --project Lab08_Ex02\n",
    "```\n"
   ]
  },
  {
   "cell_type": "markdown",
   "metadata": {},
   "source": [
    "\n",
    "6. บันทึกผลที่ได้จากการรันคำสั่งในข้อ 5\n",
    "\n"
   ]
  },
  {
   "cell_type": "markdown",
   "metadata": {},
   "source": [
    "*คำตอบ*"
   ]
  },
  {
   "attachments": {
    "image.png": {
     "image/png": "[encoded data removed]"
    }
   },
   "cell_type": "markdown",
   "metadata": {},
   "source": [
    "![image.png](attachment:image.png)"
   ]
  },
  {
   "cell_type": "markdown",
   "metadata": {},
   "source": [
    "\n",
    "7. อธิบายสิ่งที่พบในการทดลอง\n",
    "\n"
   ]
  },
  {
   "cell_type": "markdown",
   "metadata": {},
   "source": [
    "*คำตอบ*"
   ]
  },
  {
   "cell_type": "markdown",
   "metadata": {},
   "source": [
    "มีการ errers"
   ]
  },
  {
   "cell_type": "markdown",
   "metadata": {},
   "source": [
    "8. นำ code ในข้อ 2 มารันบน polyglot notebook  โดยใส่ใน  code cell ด้านล่างนี้\n"
   ]
  },
  {
   "cell_type": "code",
   "execution_count": null,
   "metadata": {
    "dotnet_interactive": {
     "language": "csharp"
    },
    "polyglot_notebook": {
     "kernelName": "csharp"
    }
   },
   "outputs": [
    {
     "ename": "Error",
     "evalue": "(2,3): error CS0122: 'Person.name' is inaccessible due to its protection level\r\n(3,3): error CS0122: 'Person.id' is inaccessible due to its protection level\r\n(4,3): error CS0122: 'Person.income' is inaccessible due to its protection level\r\n(6,40): error CS0122: 'Person.name' is inaccessible due to its protection level\r\n(6,57): error CS0122: 'Person.name' is inaccessible due to its protection level\r\n(7,38): error CS0122: 'Person.id' is inaccessible due to its protection level\r\n(7,53): error CS0122: 'Person.id' is inaccessible due to its protection level\r\n(8,42): error CS0122: 'Person.income' is inaccessible due to its protection level\r\n(8,61): error CS0122: 'Person.income' is inaccessible due to its protection level",
     "output_type": "error",
     "traceback": [
      "(2,3): error CS0122: 'Person.name' is inaccessible due to its protection level\r\n",
      "(3,3): error CS0122: 'Person.id' is inaccessible due to its protection level\r\n",
      "(4,3): error CS0122: 'Person.income' is inaccessible due to its protection level\r\n",
      "(6,40): error CS0122: 'Person.name' is inaccessible due to its protection level\r\n",
      "(6,57): error CS0122: 'Person.name' is inaccessible due to its protection level\r\n",
      "(7,38): error CS0122: 'Person.id' is inaccessible due to its protection level\r\n",
      "(7,53): error CS0122: 'Person.id' is inaccessible due to its protection level\r\n",
      "(8,42): error CS0122: 'Person.income' is inaccessible due to its protection level\r\n",
      "(8,61): error CS0122: 'Person.income' is inaccessible due to its protection level"
     ]
    }
   ],
   "source": [
    "Person p = new Person();\n",
    "p.name = \"Rambo\";\n",
    "p.id = \"1987\";\n",
    "p.income = 2500;\n",
    "System.Console.WriteLine($\"Type of p is {p.GetType()}\");\n",
    "System.Console.WriteLine($\"p.name = {p.name}\\ttype = {p.name.GetType()}\");\n",
    "System.Console.WriteLine($\"p.id = {p.id}\\ttype = {p.id.GetType()}\");\n",
    "System.Console.WriteLine($\"p.income = {p.income}\\ttype = {p.income.GetType()}\");\n",
    "\n",
    "class Person\n",
    "{\n",
    "    string name;\n",
    "    string id;\n",
    "    int income;\n",
    "}\n"
   ]
  },
  {
   "cell_type": "markdown",
   "metadata": {},
   "source": [
    "8.1 ผลการรันเป็นอย่างไร\n",
    "\n"
   ]
  },
  {
   "cell_type": "markdown",
   "metadata": {},
   "source": [
    "*คำตอบ*"
   ]
  },
  {
   "cell_type": "markdown",
   "metadata": {},
   "source": [
    "Error: (2,3): error CS0122: 'Person.name' is inaccessible due to its protection level\n",
    "\n",
    "\n",
    "(3,3): error CS0122: 'Person.id' is inaccessible due to its protection level\n",
    "\n",
    "\n",
    "(4,3): error CS0122: 'Person.income' is inaccessible due to its protection level\n",
    "\n",
    "\n",
    "(6,40): error CS0122: 'Person.name' is inaccessible due to its protection level\n",
    "\n",
    "\n",
    "(6,57): error CS0122: 'Person.name' is inaccessible due to its protection level\n",
    "\n",
    "\n",
    "(7,38): error CS0122: 'Person.id' is inaccessible due to its protection level\n",
    "\n",
    "\n",
    "(7,53): error CS0122: 'Person.id' is inaccessible due to its protection level\n",
    "\n",
    "\n",
    "(8,42): error CS0122: 'Person.income' is inaccessible due to its protection level\n",
    "\n",
    "\n",
    "(8,61): error CS0122: 'Person.income' is inaccessible due to its protection level"
   ]
  },
  {
   "cell_type": "markdown",
   "metadata": {},
   "source": [
    "8.2 เหมือนหรือค่างจาก console application อย่างไร"
   ]
  },
  {
   "cell_type": "markdown",
   "metadata": {},
   "source": [
    "*คำตอบ*"
   ]
  },
  {
   "cell_type": "markdown",
   "metadata": {},
   "source": [
    "เกิดผลการ errors คล้ายกันแต่มีส่วนต่างกัน"
   ]
  },
  {
   "cell_type": "markdown",
   "metadata": {},
   "source": [
    "## คำถาม"
   ]
  },
  {
   "cell_type": "markdown",
   "metadata": {},
   "source": [
    "1. Field ในภาษา C# คืออะไร\n"
   ]
  },
  {
   "cell_type": "markdown",
   "metadata": {},
   "source": [
    "*คำตอบ*"
   ]
  },
  {
   "cell_type": "markdown",
   "metadata": {},
   "source": [
    "Field คือ ตัวแปรที่ประกาศภายในคลาสหรือโครงสร้างเพื่อเก็บข้อมูลของอ็อบเจ็กต์\n",
    "\n",
    "\n",
    "ฟิลด์สามารถเป็น Instance Field หรือ Static Field ขึ้นอยู่กับว่าต้องการเก็บข้อมูลเป็นรายอ็อบเจ็กต์หรือเป็นค่าร่วมในคลาสเดียวกัน\n",
    "\n",
    "\n",
    "การเข้าถึงฟิลด์จะขึ้นอยู่กับ Access Modifier ที่กำหนด (เช่น public, private, protected)"
   ]
  },
  {
   "cell_type": "markdown",
   "metadata": {},
   "source": [
    "2. Field มีหน้าที่อะไรใน class \n"
   ]
  },
  {
   "cell_type": "markdown",
   "metadata": {},
   "source": [
    "*คำตอบ*"
   ]
  },
  {
   "cell_type": "markdown",
   "metadata": {},
   "source": [
    "Field ในคลาสมีหน้าที่หลักในการ:\n",
    "\n",
    "เก็บ ข้อมูลหรือสถานะ ของอ็อบเจ็กต์\n",
    "\n",
    "\n",
    "ทำให้ข้อมูลนั้นเป็น สมาชิกของคลาส และสามารถเข้าถึงได้จากเมธอดของคลาส\n",
    "\n",
    "\n",
    "ช่วยให้การจัดการข้อมูลภายในคลาสสามารถทำได้สะดวกและมีความยืดหยุ่น\n",
    "\n",
    "\n",
    "เป็นส่วนหนึ่งที่ช่วยให้คลาสสามารถ จัดเก็บข้อมูล และใช้ข้อมูลในการดำเนินการหรือคำนวณได้"
   ]
  },
  {
   "cell_type": "markdown",
   "metadata": {},
   "source": [
    "3. การประกาศ Field ทำได้อย่างไร ให้อธิบายรูปแบบการประกาศ field ในคลาส\n"
   ]
  },
  {
   "cell_type": "markdown",
   "metadata": {},
   "source": [
    "*คำตอบ*"
   ]
  },
  {
   "cell_type": "markdown",
   "metadata": {},
   "source": [
    "Field คือ ตัวแปรที่ประกาศภายในคลาสเพื่อเก็บข้อมูลหรือสถานะของอ็อบเจ็กต์\n",
    "\n",
    "\n",
    "การประกาศ Field สามารถทำได้โดยใช้ Access Modifier, Data Type, และ Field Name\n",
    "\n",
    "\n",
    "Field สามารถมีรูปแบบต่าง ๆ เช่น Public, Private, Static, Const, และ Readonly ขึ้นอยู่กับการใช้งานและการควบคุมการเข้าถึงข้อมูล\n",
    "\n",
    "\n",
    "ฟิลด์จะช่วยให้สามารถเก็บข้อมูลของอ็อบเจ็กต์ได้ และใช้ข้อมูลเหล่านั้นในเมธอดต่าง ๆ ของคลาส"
   ]
  },
  {
   "cell_type": "markdown",
   "metadata": {},
   "source": [
    "4. Field และ Variable แตกต่างกันอย่างไร\n"
   ]
  },
  {
   "cell_type": "markdown",
   "metadata": {},
   "source": [
    "*คำตอบ*"
   ]
  },
  {
   "cell_type": "markdown",
   "metadata": {},
   "source": [
    "Field:\n",
    "\n",
    "ประกาศภายในคลาส\n",
    "\n",
    "\n",
    "ใช้เก็บข้อมูลที่เป็น สมาชิกของคลาส\n",
    "\n",
    "\n",
    "สามารถเข้าถึงได้จากเมธอดภายในคลาสหรือภายนอกคลาส (ถ้าเป็น public หรือ protected)\n",
    "\n",
    "\n",
    "มีค่าคงอยู่ตลอดอายุการใช้งานของอ็อบเจ็กต์ที่ถูกสร้างจากคลาสนั้น\n",
    "\n",
    "\n",
    "ฟิลด์อาจมีค่าตั้งต้นหรือกำหนดค่าผ่านคอนสตรัคเตอร์\n",
    "\n",
    "\n",
    "Variable:\n",
    "\n",
    "ประกาศภายในเมธอดหรือบล็อก\n",
    "\n",
    "\n",
    "มีขอบเขตการใช้งานแค่ในบล็อกหรือเมธอดที่ประกาศ\n",
    "\n",
    "\n",
    "ใช้เก็บข้อมูลชั่วคราวที่ใช้ภายในเมธอดหรือฟังก์ชันนั้น ๆ\n",
    "\n",
    "\n",
    "ตัวแปรจะถูกสร้างขึ้นเมื่อเมธอดทำงานและจะหายไปเมื่อเมธอดเสร็จสิ้น"
   ]
  },
  {
   "cell_type": "markdown",
   "metadata": {},
   "source": [
    "5. เมื่อไหร่ควรใช้ Field และเมื่อไหร่ควรใช้ Variable"
   ]
  },
  {
   "cell_type": "markdown",
   "metadata": {},
   "source": [
    "*คำตอบ*"
   ]
  },
  {
   "cell_type": "markdown",
   "metadata": {},
   "source": [
    "Field:\n",
    "\n",
    "ใช้เมื่อคุณต้องการเก็บข้อมูลที่เกี่ยวข้องกับอ็อบเจ็กต์ (เช่น ชื่อ, อายุ, ข้อมูลที่ต้องการเก็บตลอดชีวิตของอ็อบเจ็กต์)\n",
    "\n",
    "\n",
    "ใช้เมื่อข้อมูลต้องการเข้าถึงจากเมธอดอื่น ๆ ภายในคลาส\n",
    "\n",
    "\n",
    "ใช้เมื่อข้อมูลต้องการถูกเก็บตลอดการใช้งานของอ็อบเจ็กต์\n",
    "\n",
    "\n",
    "Variable:\n",
    "\n",
    "ใช้เมื่อข้อมูลเป็นค่าชั่วคราวที่ใช้ภายในเมธอดหรือบล็อกเท่านั้น\n",
    "\n",
    "\n",
    "ใช้เมื่อข้อมูลไม่จำเป็นต้องเก็บไว้ในคลาสหรืออ็อบเจ็กต์ตลอดเวลา\n",
    "\n",
    "\n",
    "ใช้เพื่อเก็บข้อมูลที่ไม่จำเป็นต้องเข้าถึงจากภายนอกเมธอด"
   ]
  },
  {
   "cell_type": "markdown",
   "metadata": {},
   "source": [
    "6. ในโปรแกรมการทดลองนี้ มี field หรือไม่ อยู่ในบรรทัดที่เท่าไหร่\n"
   ]
  },
  {
   "cell_type": "markdown",
   "metadata": {},
   "source": [
    "*คำตอบ*"
   ]
  },
  {
   "cell_type": "markdown",
   "metadata": {},
   "source": [
    "มีอยุ่ใบรรทัดที่ 12,13,14"
   ]
  },
  {
   "cell_type": "markdown",
   "metadata": {},
   "source": [
    "7. ผลจากการรันโปรแกรมใน Console Application และใน polyglot notebook เหมือนหรือแตกต่างกันอย่างไร"
   ]
  },
  {
   "cell_type": "markdown",
   "metadata": {},
   "source": [
    "*คำตอบ*"
   ]
  },
  {
   "cell_type": "markdown",
   "metadata": {},
   "source": [
    "มีการ Errors ลักษณะที่คล้ายกัน แต่เมื่อรัน มีการแจ้งเตือนที่ต่างกัน บน terminal"
   ]
  }
 ],
 "metadata": {
  "kernelspec": {
   "display_name": ".NET (C#)",
   "language": "C#",
   "name": ".net-csharp"
  },
  "polyglot_notebook": {
   "kernelInfo": {
    "defaultKernelName": "csharp",
    "items": [
     {
      "aliases": [],
      "languageName": "csharp",
      "name": "csharp"
     }
    ]
   }
  }
 },
 "nbformat": 4,
 "nbformat_minor": 2
}
