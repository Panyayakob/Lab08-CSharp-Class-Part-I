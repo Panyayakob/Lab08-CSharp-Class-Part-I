{
 "cells": [
  {
   "cell_type": "markdown",
   "metadata": {},
   "source": [
    "# Lab 8 Exercise 1 \n",
    "##  การสร้าง Class\n"
   ]
  },
  {
   "cell_type": "markdown",
   "metadata": {},
   "source": [
    "\n",
    "1. สร้าง console application project\n"
   ]
  },
  {
   "cell_type": "markdown",
   "metadata": {},
   "source": [
    "1.1 เรียก terminal (cmd) ขึ้นมา \n",
    "\n",
    "1.2 ตรวจสอบให้แน่ใจว่าอยู่ใน folder หรือ directory ที่ต้องการสร้าง project \n",
    "\n",
    "1.3 พิมพ์คำสั่งต่อไปนี้\n",
    "\n",
    "``` \n",
    "    dotnet new console --name Lab08_Ex01\n",
    "```\n",
    "\n",
    "1.4 ใช้คำสั่ง dir เพื่อตรวจสอบดูว่าโฟลเดอร์ของ project ได้ถูกสร้างขึ้นแล้วหรือยัง"
   ]
  },
  {
   "cell_type": "markdown",
   "metadata": {},
   "source": [
    "\n",
    "2. เปลี่ยน code ในไฟล์ program.cs ให้เป็นดังต่อไปนี้ (ตัวเลขข้างหน้า คือหมายเลขบรรทัด ไว้สำหรับอ้างอิง)\n",
    "\n",
    "> ```c#\n",
    "> 1.  Person p = new Person();\n",
    "> 2.  System.Console.WriteLine($\"Type of p is {p.GetType()}\");\n",
    "> 3.  \n",
    "> 4.  class Person\n",
    "> 5.  {\n",
    "> 6.  \n",
    "> 7.  }\n",
    "> ```\n"
   ]
  },
  {
   "cell_type": "markdown",
   "metadata": {},
   "source": [
    "\n",
    "3. Build project โดยการใช้คำสั่ง\n",
    "\n",
    "```\n",
    "dotnet build  Lab08_Ex01\n",
    "```\n"
   ]
  },
  {
   "cell_type": "markdown",
   "metadata": {},
   "source": [
    "\n",
    "4. บันทึกผลที่ได้จากการรันคำสั่งในข้อ 3\n"
   ]
  },
  {
   "cell_type": "markdown",
   "metadata": {},
   "source": [
    "*คำตอบ*"
   ]
  },
  {
   "attachments": {
    "image.png": {
     "image/png": "[encoded data removed]"
    }
   },
   "cell_type": "markdown",
   "metadata": {},
   "source": [
    "![image.png](attachment:image.png)"
   ]
  },
  {
   "cell_type": "markdown",
   "metadata": {},
   "source": [
    "\n",
    "5. Run project โดยการใช้คำสั่ง\n",
    "\n",
    "```\n",
    "dotnet run --project Lab08_Ex01\n",
    "```\n"
   ]
  },
  {
   "cell_type": "markdown",
   "metadata": {},
   "source": [
    "\n",
    "6. บันทึกผลที่ได้จากการรันคำสั่งในข้อ 5\n"
   ]
  },
  {
   "cell_type": "markdown",
   "metadata": {},
   "source": [
    "*คำตอบ*"
   ]
  },
  {
   "cell_type": "markdown",
   "metadata": {},
   "source": []
  },
  {
   "cell_type": "markdown",
   "metadata": {},
   "source": [
    "7. โค้ดต่อไปนี้สามารถรันได้ใน polyglot notebook หรือไม่ "
   ]
  },
  {
   "cell_type": "code",
   "execution_count": null,
   "metadata": {
    "dotnet_interactive": {
     "language": "csharp"
    },
    "polyglot_notebook": {
     "kernelName": "csharp"
    }
   },
   "outputs": [],
   "source": [
    "Person p = new Person();\n",
    "System.Console.WriteLine($\"Type of p is {p.GetType()}\");\n",
    "\n",
    "class Person\n",
    "{\n",
    "\n",
    "}"
   ]
  },
  {
   "cell_type": "code",
   "execution_count": null,
   "metadata": {},
   "outputs": [
    {
     "name": "stdout",
     "output_type": "stream",
     "text": [
      "Type of p is Submission#1+Person\r\n"
     ]
    }
   ],
   "source": [
    "Person p = new Person();\n",
    "System.Console.WriteLine($\"Type of p is {p.GetType()}\");\n",
    "\n",
    "class Person\n",
    "{\n",
    "\n",
    "}\n"
   ]
  },
  {
   "cell_type": "markdown",
   "metadata": {},
   "source": [
    "*คำตอบ*"
   ]
  },
  {
   "cell_type": "markdown",
   "metadata": {},
   "source": [
    "Type of p is Submission#1+Person"
   ]
  },
  {
   "cell_type": "markdown",
   "metadata": {},
   "source": [
    "## คำถาม\n",
    "\n"
   ]
  },
  {
   "cell_type": "markdown",
   "metadata": {},
   "source": [
    "1. Class ในภาษา C# คืออะไร\n"
   ]
  },
  {
   "cell_type": "markdown",
   "metadata": {},
   "source": [
    "*คำตอบ*"
   ]
  },
  {
   "cell_type": "markdown",
   "metadata": {},
   "source": [
    "ในภาษา C# class คือแบบจำลอง (blueprint) หรือแม่แบบของอ็อบเจ็กต์ ซึ่งใช้ในการสร้างอ็อบเจ็กต์ที่มีคุณสมบัติและพฤติกรรม (หรือที่เรียกว่า attributes และ methods) ที่สามารถใช้ได้ในโปรแกรมของคุณ\n",
    "\n",
    "การใช้ class ใน C# จะช่วยให้คุณสามารถจัดกลุ่มข้อมูลและฟังก์ชันต่าง ๆ ที่เกี่ยวข้องกันไว้ในที่เดียวกัน เพื่อให้การพัฒนาโปรแกรมมีความสะดวกและสามารถจัดการได้ง่ายขึ้น"
   ]
  },
  {
   "cell_type": "markdown",
   "metadata": {},
   "source": [
    "2. Class มีหน้าที่อะไร\n"
   ]
  },
  {
   "cell_type": "markdown",
   "metadata": {},
   "source": [
    "*คำตอบ*"
   ]
  },
  {
   "cell_type": "markdown",
   "metadata": {},
   "source": [
    "หน้าที่ของ class คือการเป็นโครงสร้างที่รวบรวมข้อมูลและพฤติกรรมที่เกี่ยวข้องกันไว้ในที่เดียว เพื่อสร้างอ็อบเจ็กต์ที่สามารถใช้งานได้ในโปรแกรม ช่วยให้โปรแกรมมีความยืดหยุ่นและง่ายต่อการจัดการและบำรุงรักษา."
   ]
  },
  {
   "cell_type": "markdown",
   "metadata": {},
   "source": [
    "3. ทำไมเราต้องใช้ Class\n"
   ]
  },
  {
   "cell_type": "markdown",
   "metadata": {},
   "source": [
    "*คำตอบ*"
   ]
  },
  {
   "cell_type": "markdown",
   "metadata": {},
   "source": [
    "การใช้ class ช่วยให้โปรแกรมมีโครงสร้างที่ดี สามารถจัดการข้อมูลและฟังก์ชันที่เกี่ยวข้องกันได้อย่างมีระเบียบ เพิ่มความยืดหยุ่นและง่ายต่อการขยายการทำงานในอนาคต ช่วยสนับสนุนการพัฒนาโปรแกรมตามหลัก OOP และทำให้โปรแกรมมีความสามารถในการบำรุงรักษาและขยายตัวได้ดี."
   ]
  },
  {
   "cell_type": "markdown",
   "metadata": {},
   "source": [
    "4. ส่วนประกอบของ Class มีอะไรบ้าง\n"
   ]
  },
  {
   "cell_type": "markdown",
   "metadata": {},
   "source": [
    "*คำตอบ*"
   ]
  },
  {
   "cell_type": "markdown",
   "metadata": {},
   "source": [
    "ส่วนประกอบหลักของ class ใน C# ได้แก่ ชื่อคลาส, ฟิลด์, properties, constructors, methods, access modifiers, static members, และความสามารถในการสืบทอดและ polymorphism. การใช้ส่วนประกอบเหล่านี้ทำให้โปรแกรมมีโครงสร้างที่ชัดเจนและสามารถจัดการข้อมูลได้อย่างมีประสิทธิภาพ."
   ]
  },
  {
   "cell_type": "markdown",
   "metadata": {},
   "source": [
    "5. Class และ Object แตกต่างกันอย่างไร\n"
   ]
  },
  {
   "cell_type": "markdown",
   "metadata": {},
   "source": [
    "*คำตอบ*"
   ]
  },
  {
   "cell_type": "markdown",
   "metadata": {},
   "source": [
    "Class เป็นแม่แบบที่กำหนดโครงสร้างและฟังก์ชันต่างๆ ของอ็อบเจ็กต์ แต่ไม่สามารถทำงานได้โดยตรง\n",
    "\n",
    "\n",
    "Object คือการสร้างอ็อบเจ็กต์จากคลาส และสามารถใช้งานได้จริงในโปรแกรม โดยมีข้อมูลที่เป็นค่าจริงที่แยกออกจากอ็อบเจ็กต์อื่น ๆ ที่ถูกสร้างจากคลาสเดียวกัน"
   ]
  },
  {
   "cell_type": "markdown",
   "metadata": {},
   "source": [
    "6. การตั้งชื่อ Class มีหลักเกณฑ์อย่างไร"
   ]
  },
  {
   "cell_type": "markdown",
   "metadata": {},
   "source": [
    "*คำตอบ*"
   ]
  },
  {
   "cell_type": "markdown",
   "metadata": {},
   "source": [
    "การตั้งชื่อ Class ควรใช้ Pascal Case, ควรใช้ชื่อที่บ่งบอกถึงลักษณะหรือหน้าที่ของคลาส, หลีกเลี่ยงการใช้คำที่ไม่สื่อความหมายหรือย่อชื่อ, และควรใช้คำนามแทนการใช้คำกริยา สำหรับการทำให้โปรแกรมเข้าใจง่ายและบำรุงรักษาได้ง่ายขึ้น."
   ]
  },
  {
   "cell_type": "markdown",
   "metadata": {},
   "source": [
    "7. คำสั่ง p.GetType() คืออะไร"
   ]
  },
  {
   "cell_type": "markdown",
   "metadata": {},
   "source": [
    "*คำตอบ*"
   ]
  },
  {
   "cell_type": "markdown",
   "metadata": {},
   "source": [
    "p.GetType() ใน C# ใช้เพื่อดึงประเภท (type) ของอ็อบเจ็กต์ p และคืนค่าเป็นอ็อบเจ็กต์ประเภท Type ซึ่งสามารถใช้ในการตรวจสอบชนิดของอ็อบเจ็กต์หรือใช้ในกระบวนการ Reflection เพื่อตรวจสอบคุณสมบัติและข้อมูลของประเภทนั้น"
   ]
  },
  {
   "cell_type": "markdown",
   "metadata": {},
   "source": [
    "8. ผลที่ได้จากคำสั่ง  p.GetType() คืออะไร มันให้ข้อมูลอะไรแก่เราบ้าง"
   ]
  },
  {
   "cell_type": "markdown",
   "metadata": {},
   "source": [
    "*คำตอบ*"
   ]
  },
  {
   "cell_type": "markdown",
   "metadata": {},
   "source": [
    "คำสั่ง p.GetType() ให้ข้อมูลหลายประเภทเกี่ยวกับประเภทของอ็อบเจ็กต์ p เช่น:\n",
    "\n",
    "ชื่อประเภท (คลาส)\n",
    "ชื่อเต็มของประเภท (รวมทั้ง namespace)\n",
    "ประเภทของคลาสฐาน (ถ้ามีการสืบทอด)\n",
    "ข้อมูลเกี่ยวกับเมธอด, properties, หรือฟิลด์ต่าง ๆ ของคลาส\n",
    "ความสามารถในการตรวจสอบว่าอ็อบเจ็กต์เป็น subclass, interface หรือไม่"
   ]
  },
  {
   "cell_type": "markdown",
   "metadata": {},
   "source": [
    "9. ในภาษา C# การประกาศ class ไว้ก่อนหรือหลังการสร้าง  object ต่างกันหรือไม่ "
   ]
  },
  {
   "cell_type": "markdown",
   "metadata": {},
   "source": [
    "*คำตอบ*"
   ]
  },
  {
   "cell_type": "markdown",
   "metadata": {},
   "source": [
    "การประกาศ class จะต้องทำก่อน การสร้าง object จากคลาสนั้น\n",
    "\n",
    "\n",
    "ถ้าพยายามสร้าง object จากคลาสที่ยังไม่ได้ประกาศหรือไม่ได้กำหนดในโปรแกรมจะเกิดข้อผิดพลาด\n",
    "\n",
    "\n",
    "คลาสเป็นแม่แบบในการสร้าง object ดังนั้นการประกาศ class จึงต้องทำก่อนการสร้าง object."
   ]
  }
 ],
 "metadata": {
  "kernelspec": {
   "display_name": ".NET (C#)",
   "language": "C#",
   "name": ".net-csharp"
  },
  "polyglot_notebook": {
   "kernelInfo": {
    "defaultKernelName": "csharp",
    "items": [
     {
      "aliases": [],
      "languageName": "csharp",
      "name": "csharp"
     }
    ]
   }
  }
 },
 "nbformat": 4,
 "nbformat_minor": 2
}
