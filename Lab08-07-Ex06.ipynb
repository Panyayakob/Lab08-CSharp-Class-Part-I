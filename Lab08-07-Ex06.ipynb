{
 "cells": [
  {
   "cell_type": "markdown",
   "metadata": {
    "dotnet_interactive": {
     "language": "csharp"
    },
    "polyglot_notebook": {
     "kernelName": "csharp"
    }
   },
   "source": [
    "# Lab 8 Exercise 6\n",
    "\n",
    "## Method with parameter"
   ]
  },
  {
   "cell_type": "markdown",
   "metadata": {},
   "source": [
    "1. สร้าง console application project\n",
    "\n",
    "```\n",
    "    dotnet new console --name Lab08_Ex06\n",
    "```\n"
   ]
  },
  {
   "cell_type": "markdown",
   "metadata": {},
   "source": [
    "2. เปลี่ยน code ให้เป็นดังต่อไปนี้\n",
    "\n",
    "> ```csharp\n",
    "> 1. var mc = new MyClass();\n",
    "> 2. mc.DisplayParam(3, 4);\n",
    "> 3. class MyClass\n",
    "> 4. {\n",
    "> 5.     public void DisplayParam(int a, int b)\n",
    "> 6.     {\n",
    "> 7.         System.Console.WriteLine($\"a = {a}, b = {b}\");\n",
    "> 8.     } \n",
    "> 9. }\n",
    "> ```\n",
    "\n"
   ]
  },
  {
   "cell_type": "markdown",
   "metadata": {},
   "source": [
    "3. Build project โดยการใช้คำสั่ง\n",
    "\n",
    "```\n",
    "    dotnet build  Lab08_Ex06\n",
    "```"
   ]
  },
  {
   "cell_type": "markdown",
   "metadata": {},
   "source": [
    "4. บันทึกผลที่ได้จากการรันคำสั่งในข้อ 3\n",
    "\n"
   ]
  },
  {
   "cell_type": "markdown",
   "metadata": {},
   "source": [
    "*คำตอบ*"
   ]
  },
  {
   "attachments": {
    "image.png": {
     "image/png": "[encoded data removed]"
    }
   },
   "cell_type": "markdown",
   "metadata": {},
   "source": [
    "![image.png](attachment:image.png)"
   ]
  },
  {
   "cell_type": "markdown",
   "metadata": {},
   "source": [
    "5. Run project โดยการใช้คำสั่ง\n",
    "\n",
    "```\n",
    "    dotnet run --project Lab08_Ex06\n",
    "```"
   ]
  },
  {
   "cell_type": "markdown",
   "metadata": {},
   "source": [
    "6. บันทึกผลที่ได้จากการรันคำสั่งในข้อ 5\n",
    "\n",
    "\n"
   ]
  },
  {
   "cell_type": "markdown",
   "metadata": {},
   "source": [
    "*คำตอบ*"
   ]
  },
  {
   "attachments": {
    "image.png": {
     "image/png": "[encoded data removed]"
    }
   },
   "cell_type": "markdown",
   "metadata": {},
   "source": [
    "![image.png](attachment:image.png)"
   ]
  },
  {
   "cell_type": "markdown",
   "metadata": {},
   "source": [
    "7. อธิบายสิ่งที่พบในการทดลอง\n"
   ]
  },
  {
   "cell_type": "markdown",
   "metadata": {},
   "source": [
    "*คำตอบ*"
   ]
  },
  {
   "cell_type": "markdown",
   "metadata": {},
   "source": [
    "เมื่อ buile สำเร็จเเละรัน จะขึ้น a = 3 , b = 4"
   ]
  },
  {
   "cell_type": "markdown",
   "metadata": {},
   "source": [
    "8. นำ code ในข้อ 2 มารันบน polyglot notebook  โดยใส่ใน  code cell ด้านล่างนี้\n"
   ]
  },
  {
   "cell_type": "code",
   "execution_count": null,
   "metadata": {},
   "outputs": [
    {
     "name": "stdout",
     "output_type": "stream",
     "text": [
      "a = 3, b = 4\r\n"
     ]
    }
   ],
   "source": [
    "var mc = new MyClass();\n",
    "mc.DisplayParam(3, 4);\n",
    "\n",
    "class MyClass\n",
    "{\n",
    "    public void DisplayParam(int a, int b)\n",
    "    {\n",
    "        System.Console.WriteLine($\"a = {a}, b = {b}\");\n",
    "    } \n",
    "}\n"
   ]
  },
  {
   "cell_type": "markdown",
   "metadata": {},
   "source": [
    "8.1 ผลการรันเป็นอย่างไร\n",
    "\n"
   ]
  },
  {
   "cell_type": "markdown",
   "metadata": {},
   "source": [
    "*คำตอบ*"
   ]
  },
  {
   "cell_type": "markdown",
   "metadata": {},
   "source": [
    "a = 3, b = 4"
   ]
  },
  {
   "cell_type": "markdown",
   "metadata": {},
   "source": [
    "8.2 เหมือนหรือต่างจาก console application อย่างไร"
   ]
  },
  {
   "cell_type": "markdown",
   "metadata": {},
   "source": [
    "*คำตอบ*"
   ]
  },
  {
   "cell_type": "markdown",
   "metadata": {},
   "source": [
    "เหมือนกัน เพราะเเมื่อรันได้ค่าเท่ากัน "
   ]
  },
  {
   "cell_type": "markdown",
   "metadata": {},
   "source": [
    "## คำถาม"
   ]
  },
  {
   "cell_type": "markdown",
   "metadata": {},
   "source": [
    "1. Method with parameter คืออะไร\n"
   ]
  },
  {
   "cell_type": "markdown",
   "metadata": {},
   "source": [
    "*คำตอบ*"
   ]
  },
  {
   "cell_type": "markdown",
   "metadata": {},
   "source": [
    "Method with parameter หมายถึง เมธอด (ฟังก์ชัน) ที่รับพารามิเตอร์ หรือ อาร์กิวเมนต์ ในการทำงาน ซึ่งพารามิเตอร์เหล่านี้จะถูกใช้ภายในเมธอดเพื่อประมวลผลค่าที่ส่งเข้าไปจากภายนอก\n",
    "\n",
    "ในภาษา C# เมธอดสามารถประกาศให้รับพารามิเตอร์ ซึ่งเป็นตัวแปรที่มีค่าใดๆ ถูกส่งเข้ามาในเมธอดเพื่อให้เมธอดนั้นทำงานได้ตามที่ต้องการ"
   ]
  },
  {
   "cell_type": "markdown",
   "metadata": {},
   "source": [
    "2. ทำไมเราต้องใช้ parameter ใน method\n"
   ]
  },
  {
   "cell_type": "markdown",
   "metadata": {},
   "source": [
    "*คำตอบ*"
   ]
  },
  {
   "cell_type": "markdown",
   "metadata": {},
   "source": [
    "การใช้พารามิเตอร์ในเมธอดทำให้โค้ดมีความยืดหยุ่น, และง่ายต่อการบำรุงรักษา และช่วยให้เมธอดทำงานได้กับข้อมูลที่หลากหลายโดยไม่ต้องเขียนโค้ดซ้ำ"
   ]
  },
  {
   "cell_type": "markdown",
   "metadata": {},
   "source": [
    "3. parameter และ argument แตกต่างกันอย่างไร\n"
   ]
  },
  {
   "cell_type": "markdown",
   "metadata": {},
   "source": [
    "*คำตอบ*"
   ]
  },
  {
   "cell_type": "markdown",
   "metadata": {},
   "source": [
    "Parameter (พารามิเตอร์) คือ ตัวแปรที่ประกาศในฟังก์ชันหรือเมธอดเพื่อรับค่าเมื่อเมธอดถูกเรียกใช้งาน\n",
    "\n",
    "\n",
    "Argument (อาร์กิวเมนต์) คือ ค่าที่ถูกส่งให้กับพารามิเตอร์เมื่อเรียกใช้งานฟังก์ชันหรือเมธอด"
   ]
  },
  {
   "cell_type": "markdown",
   "metadata": {},
   "source": [
    "4. ส่วนประกอบของ method ที่มี parameter มีอะไรบ้าง\n"
   ]
  },
  {
   "cell_type": "markdown",
   "metadata": {},
   "source": [
    "*คำตอบ*"
   ]
  },
  {
   "cell_type": "markdown",
   "metadata": {},
   "source": [
    "Return Type: ชนิดข้อมูลที่ส่งคืนจากเมธอด\n",
    "\n",
    "Method Name: ชื่อของเมธอด\n",
    "\n",
    "Parameters: ตัวแปรที่รับค่าจากภายนอก\n",
    "\n",
    "Method Body: โค้ดที่ประมวลผลการทำงาน"
   ]
  },
  {
   "cell_type": "markdown",
   "metadata": {},
   "source": [
    "5. เมื่อไหร่ควรใช้ method ที่มี parameter"
   ]
  },
  {
   "cell_type": "markdown",
   "metadata": {},
   "source": [
    "*คำตอบ*"
   ]
  },
  {
   "cell_type": "markdown",
   "metadata": {},
   "source": [
    "method ที่มี parameter เมื่อคุณต้องการ:\n",
    "\n",
    "ให้เมธอดยืดหยุ่น: สามารถรับข้อมูลต่างๆ จากภายนอกเพื่อทำงานที่แตกต่างกัน\n",
    "\n",
    "หลีกเลี่ยงการเขียนโค้ดซ้ำ: ใช้เมธอดเดียวกันกับข้อมูลที่แตกต่างกัน\n",
    "\n",
    "ทำงานกับข้อมูลที่เปลี่ยนแปลงได้: สามารถส่งข้อมูลที่แตกต่างกันให้เมธอดเพื่อประมวลผล\n",
    "\n",
    "เพิ่มความชัดเจน: ทำให้เมธอดสามารถทำงานได้ตามเงื่อนไขที่กำหนดผ่านพารามิเตอร์"
   ]
  },
  {
   "cell_type": "markdown",
   "metadata": {},
   "source": [
    "6. ถ้าแก้ไขโค้ดในบรรทัดที่ 2 เป็นดังต่อไปนี้  จะได้ผลการ build หรือ run เป็นอย่างไร ให้แสดง output ที่โปรแกรมแสดงออกมา\n",
    "```csharp\n",
    "    mc.DisplayParam(3.5, 4.2);\n",
    "```\n"
   ]
  },
  {
   "cell_type": "code",
   "execution_count": null,
   "metadata": {},
   "outputs": [
    {
     "ename": "Error",
     "evalue": "(2,17): error CS1503: Argument 1: cannot convert from 'double' to 'int'\r\n(2,22): error CS1503: Argument 2: cannot convert from 'double' to 'int'",
     "output_type": "error",
     "traceback": [
      "(2,17): error CS1503: Argument 1: cannot convert from 'double' to 'int'\r\n",
      "(2,22): error CS1503: Argument 2: cannot convert from 'double' to 'int'"
     ]
    }
   ],
   "source": [
    "var mc = new MyClass();\n",
    "mc.DisplayParam(3.5, 4.2);\n",
    "\n",
    "class MyClass\n",
    "{\n",
    "    public void DisplayParam(int a, int b)\n",
    "    {\n",
    "        System.Console.WriteLine($\"a = {a}, b = {b}\");\n",
    "    } \n",
    "}\n"
   ]
  },
  {
   "cell_type": "markdown",
   "metadata": {},
   "source": [
    "*คำตอบ*"
   ]
  },
  {
   "cell_type": "markdown",
   "metadata": {},
   "source": [
    "Error: (2,17): error CS1503: Argument 1: cannot convert from 'double' to 'int'\n",
    "(2,22): error CS1503: Argument 2: cannot convert from 'double' to 'int'"
   ]
  },
  {
   "cell_type": "markdown",
   "metadata": {},
   "source": [
    "7. ถ้าแก้ไขโค้ดในบรรทัดที่ 2 เป็นดังต่อไปนี้  จะได้ผลการ build หรือ run เป็นอย่างไร ให้แสดง output ที่โปรแกรมแสดงออกมา\n",
    "```csharp\n",
    "    mc.DisplayParam(\"Hello\", \"World\");\n",
    "```"
   ]
  },
  {
   "cell_type": "code",
   "execution_count": null,
   "metadata": {},
   "outputs": [
    {
     "ename": "Error",
     "evalue": "(2,17): error CS1503: Argument 1: cannot convert from 'string' to 'int'\r\n(2,26): error CS1503: Argument 2: cannot convert from 'string' to 'int'",
     "output_type": "error",
     "traceback": [
      "(2,17): error CS1503: Argument 1: cannot convert from 'string' to 'int'\r\n",
      "(2,26): error CS1503: Argument 2: cannot convert from 'string' to 'int'"
     ]
    }
   ],
   "source": [
    "var mc = new MyClass();\n",
    "mc.DisplayParam(\"Hello\", \"World\");\n",
    "\n",
    "class MyClass\n",
    "{\n",
    "    public void DisplayParam(int a, int b)\n",
    "    {\n",
    "        System.Console.WriteLine($\"a = {a}, b = {b}\");\n",
    "    } \n",
    "}\n"
   ]
  },
  {
   "cell_type": "markdown",
   "metadata": {},
   "source": [
    "*คำตอบ*"
   ]
  },
  {
   "cell_type": "markdown",
   "metadata": {},
   "source": [
    "Error: (2,17): error CS1503: Argument 1: cannot convert from 'string' to 'int'\n",
    "(2,26): error CS1503: Argument 2: cannot convert from 'string' to 'int'"
   ]
  },
  {
   "cell_type": "markdown",
   "metadata": {},
   "source": [
    "8. จงเขียน method ที่ตรวจสอบว่าตัวเลขที่รับเข้ามาเป็นจำนวนคู่หรือจำนวนคี่ และแสดงผลลัพธ์ทางหน้าจอ"
   ]
  },
  {
   "cell_type": "code",
   "execution_count": null,
   "metadata": {
    "dotnet_interactive": {
     "language": "csharp"
    },
    "polyglot_notebook": {
     "kernelName": "csharp"
    }
   },
   "outputs": [
    {
     "name": "stdout",
     "output_type": "stream",
     "text": [
      "a = 9, เป็นจำนวนคี่ (Odd)\n",
      "b = 12, เป็นจำนวนคู่ (Even)\n"
     ]
    }
   ],
   "source": [
    "var mc = new MyClass();\n",
    "mc.DisplayParam(9, 12); // ทดสอบฟังก์ชัน\n",
    "\n",
    "class MyClass\n",
    "{\n",
    "    public void DisplayParam(int a, int b)\n",
    "    {\n",
    "        System.Console.WriteLine($\"a = {a}, {CheckEvenOdd(a)}\");\n",
    "        System.Console.WriteLine($\"b = {b}, {CheckEvenOdd(b)}\");\n",
    "    } \n",
    "\n",
    "    private string CheckEvenOdd(int num)\n",
    "    {\n",
    "        return (num % 2 == 0) ? \"เป็นจำนวนคู่ (Even)\" : \"เป็นจำนวนคี่ (Odd)\";\n",
    "    }\n",
    "}"
   ]
  },
  {
   "cell_type": "markdown",
   "metadata": {},
   "source": [
    "*คำตอบ*"
   ]
  },
  {
   "cell_type": "markdown",
   "metadata": {},
   "source": [
    "a = 9, เป็นจำนวนคี่ (Odd)\n",
    "\n",
    "b = 12, เป็นจำนวนคู่ (Even)"
   ]
  }
 ],
 "metadata": {
  "kernelspec": {
   "display_name": ".NET (C#)",
   "language": "C#",
   "name": ".net-csharp"
  },
  "polyglot_notebook": {
   "kernelInfo": {
    "defaultKernelName": "csharp",
    "items": [
     {
      "aliases": [],
      "languageName": "csharp",
      "name": "csharp"
     }
    ]
   }
  }
 },
 "nbformat": 4,
 "nbformat_minor": 2
}
